{
  "nbformat": 4,
  "nbformat_minor": 0,
  "metadata": {
    "colab": {
      "name": "Weather_Forecasting.ipynb",
      "provenance": [],
      "collapsed_sections": []
    },
    "kernelspec": {
      "name": "python3",
      "display_name": "Python 3"
    },
    "language_info": {
      "name": "python"
    }
  },
  "cells": [
    {
      "cell_type": "markdown",
      "metadata": {
        "id": "mJM2fvmfH3O6"
      },
      "source": [
        "Time-series forecasting and prediction on tabular data using PyTorch. Supports Jetson Nano, TX1/TX2, AGX Xavier, and Xavier NX."
      ]
    },
    {
      "cell_type": "markdown",
      "metadata": {
        "id": "UQ7-ofW6IwXS"
      },
      "source": [
        "# Weather Forecasting\n",
        "\n",
        "In this hourly [weather dataset](https://www.kaggle.com/selfishgene/historical-hourly-weather-data), we are forecasting the future weather of a city based on it's past weather. The following data is provided on 1-hour intervals (over a timespan of 40,000 hours):\n",
        "\n",
        "- temperature\n",
        "- humidity\n",
        "- pressure\n",
        "- wind_direction\n",
        "- wind_speed\n",
        "\n"
      ]
    },
    {
      "cell_type": "markdown",
      "metadata": {
        "id": "ofwee72jIS6v"
      },
      "source": [
        "# Getting Started\n"
      ]
    },
    {
      "cell_type": "markdown",
      "metadata": {
        "id": "QLveyRBpLVDq"
      },
      "source": [
        "We provide the model files for GRU RNN model and linear model in this repo. Please check the model files in <code> ../models/ </code> \n",
        "\n"
      ]
    },
    {
      "cell_type": "markdown",
      "metadata": {
        "id": "QxqN1ZrQC_WD"
      },
      "source": [
        "## Starting the container"
      ]
    },
    {
      "cell_type": "code",
      "metadata": {
        "id": "v82J7ZKbHUIq"
      },
      "source": [
        "!git clone https://github.com/dusty-nv/pytorch-timeseries"
      ],
      "execution_count": null,
      "outputs": []
    },
    {
      "cell_type": "code",
      "metadata": {
        "id": "XmP83rkOIqtQ"
      },
      "source": [
        "cd pytorch-timeseries"
      ],
      "execution_count": null,
      "outputs": []
    },
    {
      "cell_type": "code",
      "metadata": {
        "id": "1jljLeJAIqzf"
      },
      "source": [
        "!docker/run.sh\n"
      ],
      "execution_count": null,
      "outputs": []
    },
    {
      "cell_type": "code",
      "metadata": {
        "id": "BhmpEJcyIq5Q"
      },
      "source": [
        "cd pytorch-timeseries"
      ],
      "execution_count": null,
      "outputs": []
    },
    {
      "cell_type": "markdown",
      "metadata": {
        "id": "96sgPeu5HmgE"
      },
      "source": [
        "# Running the training script"
      ]
    },
    {
      "cell_type": "markdown",
      "metadata": {
        "id": "dYJCZoUQJOnH"
      },
      "source": [
        "Let's start by forecasting just the temperature:"
      ]
    },
    {
      "cell_type": "code",
      "metadata": {
        "id": "-1s8hwvJHp0G"
      },
      "source": [
        "!python3 train.py --data data/weather.csv --inputs temperature --outputs temperature --horizon 1"
      ],
      "execution_count": null,
      "outputs": []
    },
    {
      "cell_type": "markdown",
      "metadata": {
        "id": "BfH7bJYtJP4a"
      },
      "source": [
        "Next we can incorporate multiple inputs/outputs and simultaneously predict the temperature, humidity, and barometric pressure:"
      ]
    },
    {
      "cell_type": "code",
      "metadata": {
        "id": "U7WDZ2QHJXq9"
      },
      "source": [
        "!python3 train.py --data data/weather.csv --inputs temperature,humidity,pressure --outputs temperature,humidity,pressure --horizon 1\n"
      ],
      "execution_count": null,
      "outputs": []
    }
  ]
}